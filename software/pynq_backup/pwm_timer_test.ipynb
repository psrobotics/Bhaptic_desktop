{
 "cells": [
  {
   "cell_type": "code",
   "execution_count": 30,
   "metadata": {},
   "outputs": [],
   "source": [
    "from pynq.overlays.base import BaseOverlay\n",
    "\n",
    "base = BaseOverlay(\"base.bit\")"
   ]
  },
  {
   "cell_type": "code",
   "execution_count": 31,
   "metadata": {},
   "outputs": [],
   "source": [
    "%%microblaze base.ARDUINO\n",
    "#include \"xio_switch.h\"\n",
    "#include \"gpio.h\"\n",
    "#include \"timer.h\"\n",
    "\n",
    "#define DEFAULT_PERIOD 625998\n",
    "#define DEFAULT_DUTY 312998\n",
    "\n",
    "#define PWM_A_PIN 3\n",
    "#define PWM_B_PIN 11\n",
    "#define DIR_A_PIN 2\n",
    "#define DIR_B_PIN 4\n",
    "\n",
    "typedef enum motor {\n",
    "MOTOR_A = 0,\n",
    "MOTOR_B = 1,\n",
    "}motor_e;\n",
    "\n",
    "static unsigned int pol_a = 0, pol_b = 0;\n",
    "static unsigned int dir_a = 0, dir_b = 0;\n",
    "static unsigned int duty_a = 50, duty_b = 50;\n",
    "\n",
    "static timer timer_a;\n",
    "static timer timer_b;\n",
    "static gpio gpio_a;\n",
    "static gpio gpio_b;\n",
    "\n",
    "unsigned int init_ardumoto(){    \n",
    "    timer_a = timer_open_device(0);\n",
    "    timer_b = timer_open_device(5);\n",
    "    set_pin(PWM_A_PIN, PWM0);\n",
    "    set_pin(PWM_B_PIN, PWM5);\n",
    "    gpio_a = gpio_open(DIR_A_PIN);\n",
    "    gpio_b = gpio_open(DIR_B_PIN);\n",
    "    gpio_set_direction(gpio_a, GPIO_OUT);\n",
    "    gpio_set_direction(gpio_b, GPIO_OUT);\n",
    "    return 0;\n",
    "}\n",
    "\n",
    "void configure_polar(unsigned int motor, unsigned int polarity){\n",
    "    if (motor == MOTOR_A) {\n",
    "        pol_a = polarity;\n",
    "    }else if (motor == MOTOR_B) {\n",
    "        pol_b = polarity;\n",
    "    }\n",
    "}\n",
    "\n",
    "void set_direction(unsigned int motor, unsigned int direction){\n",
    "    if (motor == MOTOR_A){\n",
    "        dir_a = (direction)? pol_a : !pol_a;\n",
    "    }\n",
    "    else if (motor == MOTOR_B){\n",
    "        dir_b = (direction)? pol_b : !pol_b;\n",
    "    }\n",
    "}\n",
    "\n",
    "void set_speed(unsigned int motor, unsigned int speed){\n",
    "    if (motor == MOTOR_A) {\n",
    "        duty_a = speed;\n",
    "    } else if (motor == MOTOR_B) {\n",
    "        duty_b = speed;\n",
    "    }\n",
    "}\n",
    "\n",
    "void run(unsigned int motor){\n",
    "    if (motor == MOTOR_A) {\n",
    "        gpio_write(gpio_a, dir_a);\n",
    "        timer_pwm_generate(timer_a, DEFAULT_PERIOD, \n",
    "                           duty_a*DEFAULT_PERIOD/100);\n",
    "    }else if(motor == MOTOR_B) {\n",
    "        gpio_write(gpio_b, dir_b);\n",
    "        timer_pwm_generate(timer_b, DEFAULT_PERIOD, \n",
    "                           duty_b*DEFAULT_PERIOD/100);\n",
    "    }\n",
    "}\n",
    "\n",
    "void stop(unsigned int motor){\n",
    "    if (motor == MOTOR_A) {\n",
    "        timer_pwm_stop(timer_a);\n",
    "    }else if (motor == MOTOR_B){\n",
    "        timer_pwm_stop(timer_b);\n",
    "    }\n",
    "}"
   ]
  },
  {
   "cell_type": "code",
   "execution_count": 32,
   "metadata": {},
   "outputs": [
    {
     "name": "stdout",
     "output_type": "stream",
     "text": [
      "init\n"
     ]
    },
    {
     "ename": "KeyboardInterrupt",
     "evalue": "",
     "output_type": "error",
     "traceback": [
      "\u001b[0;31m---------------------------------------------------------------------------\u001b[0m",
      "\u001b[0;31mKeyboardInterrupt\u001b[0m                         Traceback (most recent call last)",
      "\u001b[0;32m<ipython-input-32-d5c77c552b18>\u001b[0m in \u001b[0;36m<module>\u001b[0;34m()\u001b[0m\n\u001b[1;32m     19\u001b[0m \u001b[0;32mfrom\u001b[0m \u001b[0mtime\u001b[0m \u001b[0;32mimport\u001b[0m \u001b[0msleep\u001b[0m\u001b[0;34m\u001b[0m\u001b[0m\n\u001b[1;32m     20\u001b[0m \u001b[0;34m\u001b[0m\u001b[0m\n\u001b[0;32m---> 21\u001b[0;31m \u001b[0msleep\u001b[0m\u001b[0;34m(\u001b[0m\u001b[0;36m100\u001b[0m\u001b[0;34m)\u001b[0m\u001b[0;34m\u001b[0m\u001b[0m\n\u001b[0m",
      "\u001b[0;31mKeyboardInterrupt\u001b[0m: "
     ]
    }
   ],
   "source": [
    "MOTOR_A = 0\n",
    "MOTOR_B = 1\n",
    "POLAR_DEFAULT = 0\n",
    "POLAR_REVERSE = 1\n",
    "FORWARD = 0\n",
    "BACKWARD = 1\n",
    "\n",
    "init_ardumoto()\n",
    "print(\"init\")\n",
    "\n",
    "configure_polar(MOTOR_A, POLAR_DEFAULT) \n",
    "configure_polar(MOTOR_B, POLAR_DEFAULT)\n",
    "\n",
    "set_direction(MOTOR_A, FORWARD)\n",
    "set_direction(MOTOR_B, FORWARD)\n",
    "\n",
    "set_speed(MOTOR_A, 90)\n",
    "run(MOTOR_A)\n",
    "from time import sleep\n",
    "\n",
    "sleep(100)"
   ]
  },
  {
   "cell_type": "code",
   "execution_count": null,
   "metadata": {},
   "outputs": [],
   "source": []
  }
 ],
 "metadata": {
  "kernelspec": {
   "display_name": "Python 3",
   "language": "python",
   "name": "python3"
  },
  "language_info": {
   "codemirror_mode": {
    "name": "ipython",
    "version": 3
   },
   "file_extension": ".py",
   "mimetype": "text/x-python",
   "name": "python",
   "nbconvert_exporter": "python",
   "pygments_lexer": "ipython3",
   "version": "3.6.0"
  }
 },
 "nbformat": 4,
 "nbformat_minor": 2
}
